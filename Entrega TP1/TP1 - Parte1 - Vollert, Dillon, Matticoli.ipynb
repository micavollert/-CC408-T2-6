{
 "cells": [
  {
   "cell_type": "markdown",
   "metadata": {
    "collapsed": true,
    "id": "Dh8MkXaG-c9Y",
    "jupyter": {
     "outputs_hidden": true
    }
   },
   "source": [
    "# Ciencia de datos (CC408) - Primavera 2024\n",
    "\n",
    "## Trabajo Práctico 1 - Parte 1 "
   ]
  },
  {
   "cell_type": "markdown",
   "metadata": {
    "id": "RhBlm6mZ-c9e",
    "jp-MarkdownHeadingCollapsed": true
   },
   "source": [
    "### Reglas de formato y presentación\n",
    "- El trabajo debe estar debidamente documentado comentado (utilizando #) para que tanto los docentes como sus compañeros puedan comprender el código fácilmente.\n",
    "\n",
    "- El mismo debe ser completado en este Jupyter Notebook y entregado como tal, es decir en un archivo .ipynb\n"
   ]
  },
  {
   "cell_type": "markdown",
   "metadata": {
    "id": "ZEjGaa4U-c9g"
   },
   "source": [
    "### Fecha de entrega:\n",
    "Domingo 8 de septiembre a las 23:59hs"
   ]
  },
  {
   "cell_type": "markdown",
   "metadata": {
    "id": "N9TU2y7E-c9h"
   },
   "source": [
    "### Modalidad de entrega\n",
    "- Al finalizar el trabajo práctico deben hacer un último <i>commit</i> en su repositorio de GitHub llamado “Entrega final del tp”. \n",
    "- Asegurense de haber creado una carpeta llamada TP1. Este Jupyter Notebook y el correspondiente al TP1 - Parte 1 deben estar dentro de esa carpeta.\n",
    "- También deben enviar el link de su repositorio -para que pueda ser clonado y corregido- al siguiente email: ispiousas@udesa.edu.ar\n",
    "- La última versión en el repositorio es la que será evaluada. Por lo que es importante que: \n",
    "    - No envien el correo hasta no haber terminado y estar seguros de que han hecho el <i>commit y push</i> a la versión final que quieren entregar. Debido a que se pueden tomar hasta 3 días de extensión a lo largo del curso, no se corregirán sus tareas hasta no recibir el correo.\n",
    "    - No hagan nuevos <i>push</i> despues de haber entregado su versión final. Esto generaría confusión acerca de que versión es la que quieren que se les corrija. "
   ]
  },
  {
   "cell_type": "markdown",
   "metadata": {
    "id": "ZXbrPraa-c9i"
   },
   "source": [
    "#### Ejercicio 1\n",
    "Este ejercicio simplemente busca repasar lo que aprendimos sobre definición de variables. Definir dos variables con un nombre combinado (al menos dos palabras), una que se pueda crear y otra que tenga un nombre inaceptable (genera error). Explicar por qué ocurre el error."
   ]
  },
  {
   "cell_type": "code",
   "execution_count": 4,
   "metadata": {
    "id": "mb7PkXfN-c9j"
   },
   "outputs": [
    {
     "ename": "SyntaxError",
     "evalue": "invalid syntax (1915511772.py, line 10)",
     "output_type": "error",
     "traceback": [
      "\u001b[0;36m  Cell \u001b[0;32mIn[4], line 10\u001b[0;36m\u001b[0m\n\u001b[0;31m    def defino ej 1 (edad):   #acá está mal definida la función ya que contiene un nombre con espacios\u001b[0m\n\u001b[0m               ^\u001b[0m\n\u001b[0;31mSyntaxError\u001b[0m\u001b[0;31m:\u001b[0m invalid syntax\n"
     ]
    }
   ],
   "source": [
    "# Caso A\n",
    "def defino_ej1(edad):\n",
    "    if edad < 50:\n",
    "        rangoetario = \"joven\"\n",
    "    else:\n",
    "        ragoetario = \"adulto\"\n",
    "    return rangoetario\n",
    "\n",
    "# Caso B (acá debería saltar un error)\n",
    "def defino ej 1 (edad):   #acá está mal definida la función ya que contiene un nombre con espacios\n",
    "if edad < 50:\n",
    "rangoetario = joven #otro motivo por el que puede dar error es porque el rango etario que se le otorga no está entre comillas\n",
    "else: \n",
    "ragoetario = adulto\n",
    "return rangoetario #también saltaría un error en esta función porque no tiene intendencia"
   ]
  },
  {
   "cell_type": "markdown",
   "metadata": {},
   "source": [
    "#### Ejercicio 2\n",
    "Importar módulos. Usando el módulo math impriman la tangente de 1. ¿Cuál es el resultado?\n",
    "Hagan este cálculo de dos formas: primero importando el módulo math y usando la función correspondiente y luego solo importando la función específica que precisan para el cálculo."
   ]
  },
  {
   "cell_type": "code",
   "execution_count": 14,
   "metadata": {},
   "outputs": [
    {
     "name": "stdout",
     "output_type": "stream",
     "text": [
      "Tangente de 1 (importando todo el módulo math): 1.557407724654902\n",
      "Tangente de 1 (importando solo la función tan): 1.557407724654902\n"
     ]
    }
   ],
   "source": [
    "# Caso A\n",
    "import math\n",
    "resultado1A = math.tan(1) \n",
    "print(\"Tangente de 1 (importando todo el módulo math):\", resultado1A) #acá le imprimimos la tangente de 1\n",
    "\n",
    "# Caso B\n",
    "from math import tan #así, no tenemos que usar el nombre del módulo math para acceder a la función\n",
    "resultado1B = tan(1) # Usamos la función ⁠ tan ⁠ directamente\n",
    "print(\"Tangente de 1 (importando solo la función tan):\", resultado1B)\n",
    "\n"
   ]
  },
  {
   "cell_type": "markdown",
   "metadata": {
    "id": "GlNh0fyv-c9l"
   },
   "source": [
    "#### Ejercicio 3 \n",
    "Este ejercicio trata sobre lograr el intercambio de valores entre dos variables utilizando una variable temporal para hacerlo. Las variables temporales y la sustitución de valores termina siendo útil en algunos loops. Los pasos a seguir son: (a) definir variables A y B (cuyos valores buscaremos invertir); (b) definir una variable temporal que resguarde el valor de B; (c) sustitución (asignar B igual a A y también A igual al valor original de B); (d) imprimir valores para verificar."
   ]
  },
  {
   "cell_type": "code",
   "execution_count": 16,
   "metadata": {
    "id": "uWalSYFC-c9m"
   },
   "outputs": [
    {
     "name": "stdout",
     "output_type": "stream",
     "text": [
      "Valor de a después de sustituir: 2\n",
      "Valor de b después de sustituir: 1\n"
     ]
    }
   ],
   "source": [
    "# a) Definir variables A y B, \n",
    "a = 1\n",
    "b = 2\n",
    "\n",
    "# b) Definir variable temporal \"tmp\" igual a B (la variable, no el valor)\n",
    "tmp = b #aca definimos que la variable b será temporal\n",
    "\n",
    "# c) Ahora sustituir variables: variable B igual a variable A (la variable, no el valor) y viceversa.\n",
    "b = a \n",
    "a = tmp #aclaración de que es temporal\n",
    "\n",
    "# d) Verifiquemos resultados: imprimir variables A y B\n",
    "print(\"Valor de a después de sustituir:\", a)\n",
    "print(\"Valor de b después de sustituir:\", b)"
   ]
  },
  {
   "cell_type": "markdown",
   "metadata": {
    "id": "wXhAaRyN-c9p"
   },
   "source": [
    "#### Ejercicio 4\n",
    "En este ejercicio se busca poner en práctica el uso de range() en un for loop. \n",
    "\n",
    "Construir un for loop usando un range(). El range debe ser entre los valores que quieran (con una diferencia mínima de 15 entre start y stop), en incrementos de 3 unidades. Dentro del loop, implementar una sentencia condicional que imprima una leyenda indicando si el input es par o impar."
   ]
  },
  {
   "cell_type": "code",
   "execution_count": 36,
   "metadata": {
    "id": "_oE5sG0c-c9q"
   },
   "outputs": [
    {
     "name": "stdout",
     "output_type": "stream",
     "text": [
      "30 es un número par\n",
      "33 es un número impar\n",
      "36 es un número par\n",
      "39 es un número impar\n",
      "42 es un número par\n",
      "45 es un número impar\n",
      "48 es un número par\n",
      "51 es un número impar\n",
      "54 es un número par\n",
      "57 es un número impar\n"
     ]
    }
   ],
   "source": [
    "#primero definimos el rango\n",
    "start = 30 #este es el valor mínimo del rango\n",
    "stop = 60 #este es el valor máximo del rango\n",
    "\n",
    "for number in range(start, stop, 3):\n",
    "    # Paso 3: Implementar la sentencia condicional\n",
    "    if number % 2 == 0:\n",
    "        print(f\"{number} es un número par\") #la f indica que se trata de un f-string #debe estar fuera de las comillas \n",
    "    else:\n",
    "        print(f\"{number} es un número impar\")\n"
   ]
  },
  {
   "cell_type": "markdown",
   "metadata": {
    "id": "h3g5bXUB-c9u"
   },
   "source": [
    "#### Ejercicio 5\n",
    "Para practicar el uso de condiciones lógicas y la definición de funciones, construir una función con una sentencia condicional que verifique si un año es bisiesto o no. Para que un año sea bisiesto debe cumplir una de dos condiciones:\n",
    "\n",
    "(a) que sea divisible por 400; o\n",
    "\n",
    "(b) que sea divisible por 4 y no sea divisible por 100\n",
    "\n",
    "Notar que son dos condiciones, donde la segunda condición tiene dos componentes. Prueben la función con 3 valores para verificar que funcione."
   ]
  },
  {
   "cell_type": "code",
   "execution_count": 7,
   "metadata": {
    "id": "7_MnILdz-c9v"
   },
   "outputs": [
    {
     "name": "stdout",
     "output_type": "stream",
     "text": [
      "True\n",
      "False\n",
      "True\n"
     ]
    }
   ],
   "source": [
    "# Resolver acá\n",
    "# Definimos la función que verifica si un año es bisiesto o no\n",
    "def es_bisiesto(anio):\n",
    "    if (anio % 400 == 0) or (anio % 4 == 0 and anio % 100 != 0): #sentencia condicional que verifica si un anio es bisiesto\n",
    "        return True\n",
    "    else:\n",
    "        return False #si no es bisisesto imprime false\n",
    "\n",
    "# Probamos la función con tres valores\n",
    "print(es_bisiesto(2000))  # Debería ser True (bisiesto)\n",
    "print(es_bisiesto(1900))  # Debería ser False (no bisiesto)\n",
    "print(es_bisiesto(2024))  # Debería ser True (bisiesto)"
   ]
  },
  {
   "cell_type": "markdown",
   "metadata": {
    "collapsed": true,
    "id": "P3a7bJkd-c9w",
    "jupyter": {
     "outputs_hidden": true
    }
   },
   "source": [
    "#### Ejercicio 6 \n",
    "Pongamos en práctica identificar el type() de cada variable. A continuación tenemos una lista con elementos de diferentes tipos. Construyan un for loop que itere sobre la lista e imprima un cartel indicando el tipo de dato u objeto que hay en cada caso."
   ]
  },
  {
   "cell_type": "code",
   "execution_count": 10,
   "metadata": {
    "id": "jDf4d_Wr-c9w"
   },
   "outputs": [],
   "source": [
    "# Definimos la lista con elementos de diferentes tipos\n",
    "mi_lista = [10, 34.5, 99999, 'abc', [1,2,3], ('ARG', 1810), {'pob': 45}, True]"
   ]
  },
  {
   "cell_type": "code",
   "execution_count": 9,
   "metadata": {
    "id": "SAJgEiNEFQAS"
   },
   "outputs": [
    {
     "name": "stdout",
     "output_type": "stream",
     "text": [
      "El elemento 10 es de tipo <class 'int'>\n",
      "El elemento 34.5 es de tipo <class 'float'>\n",
      "El elemento 99999 es de tipo <class 'int'>\n",
      "El elemento abc es de tipo <class 'str'>\n",
      "El elemento [1, 2, 3] es de tipo <class 'list'>\n",
      "El elemento ('ARG', 1810) es de tipo <class 'tuple'>\n",
      "El elemento {'pob': 45} es de tipo <class 'dict'>\n",
      "El elemento True es de tipo <class 'bool'>\n"
     ]
    }
   ],
   "source": [
    "# Resolver acá\n",
    "# Iteramos sobre la lista e imprimimos el tipo de dato de cada elemento\n",
    "for elemento in mi_lista:\n",
    "    print(f\"El elemento {elemento} es de tipo {type(elemento)}\")"
   ]
  },
  {
   "cell_type": "markdown",
   "metadata": {
    "id": "y1lncitl-c9x"
   },
   "source": [
    "#### Ejercicio 7\n",
    "Ahora definan ustedes una nueva lista, en la que los primeros cuatro elementos sean palabras (strings), el quinto elemento no sea string, y el sexto sea string. Construyan un for loop que corra por la lista y que imprima la palabra y la longitud de la misma. Que el loop contenga una sentencia condicional que imprima un cartel \"Elemento no es un string: < el elemento > | < class del elemento >\" para los casos dónde el elemento evaluado no sea string."
   ]
  },
  {
   "cell_type": "code",
   "execution_count": 12,
   "metadata": {
    "id": "bFOk9Os0-c9x"
   },
   "outputs": [
    {
     "name": "stdout",
     "output_type": "stream",
     "text": [
      "La palabra 'azul' tiene una longitud de 4\n",
      "La palabra 'mama' tiene una longitud de 4\n",
      "La palabra 'arbol' tiene una longitud de 5\n",
      "La palabra 'sol' tiene una longitud de 3\n",
      "Elemento no es un string: 2002 | <class 'int'>\n",
      "La palabra 'nubes' tiene una longitud de 5\n"
     ]
    }
   ],
   "source": [
    "# Resolver acá\n",
    "#Definimos una nueva lista con elementos donde el quinto no es string\n",
    "nueva_lista = ['azul', 'mama', 'arbol', 'sol', 2002, \"nubes\"]\n",
    "\n",
    "#Construimos un loop que corra la lista e imprima la palabra y su longitud\n",
    "for elemento in nueva_lista:\n",
    "    if isinstance(elemento, str):  # Verificamos si el elemento es un string. \"isinstance\" comprueba si cada elemento de la lista es una cadena de texto (str)\n",
    "        print(f\"La palabra '{elemento}' tiene una longitud de {len(elemento)}\")\n",
    "    else:\n",
    "        print(f\"Elemento no es un string: {elemento} | {type(elemento)}\")\n"
   ]
  },
  {
   "cell_type": "markdown",
   "metadata": {},
   "source": [
    "#### Ejercicio 8"
   ]
  },
  {
   "cell_type": "markdown",
   "metadata": {},
   "source": [
    "Construyan una función llamada 'suma' que tome una cantidad variable de parámetros y devuelva el resultado de la suma."
   ]
  },
  {
   "cell_type": "code",
   "execution_count": 13,
   "metadata": {},
   "outputs": [
    {
     "name": "stdout",
     "output_type": "stream",
     "text": [
      "6\n",
      "30\n",
      "25\n"
     ]
    }
   ],
   "source": [
    "# Resolver acá\n",
    "# Definimos la función 'suma' que toma una cantidad variable de parámetros\n",
    "def suma(*args): #puede recibir una cantidad variable de argumentos (utilizando *args) y devuelve la suma de todos ellos.\n",
    "    return sum(args)\n",
    "\n",
    "# Probamos la función con diferentes cantidades de parámetros\n",
    "print(suma(1, 2, 3))           # Debería devolver 6\n",
    "print(suma(10, 20))            # Debería devolver 30\n",
    "print(suma(5, -5, 15, 10, 0))  # Debería devolver 25"
   ]
  },
  {
   "cell_type": "markdown",
   "metadata": {
    "id": "PUpxDz72-c9x"
   },
   "source": [
    "#### Ejercicio 9\n",
    "Argentina tiene una representación legislativa proporcional en la cual la cantidad de diputados se debería ajustar según el tamaño de población de cada provincia. Otra característica de la representación legislativa del país es que hay una cantidad mínima de diputados por provincia (5). Esto genera un desbalance en la cantidad de ciudadanos por cada representante en el Congreso entre provincias.\n",
    "\n",
    "A continuación preparamos algunos ejemplos, dividiendo la población de cada provincia (según estimación para el 2022) por la cantidad de representantes en el Congreso para esa misma jurisdicción. También armamos el equivalente para el total país y una lista con los valores provinciales.\n",
    "\n",
    "En este ejercicio les pedimos que construyan un for loop que itere sobre el diccionario definido y compare cada valor provincial contra el valor de proporcionalidad directa (la variable argentina). El loop debe imprimir una leyenda que indique si la provincia está sobrerepresentada, subrepresentada o con representación proporcional. Además, queremos que el mismo loop compare los valores de las provincias sobrerepresentadas y que guarde el valor de la provincia con mayor sobrerepresentación. Luego del loop impriman este valor así podemos ver que haya funcionado.\n",
    "\n",
    "Fuente para población: https://es.wikipedia.org/wiki/Demograf%C3%ADa_de_Argentina\n",
    "\n",
    "Fuente para representantes: https://es.wikipedia.org/wiki/C%C3%A1mara_de_Diputados_de_la_Naci%C3%B3n_Argentina"
   ]
  },
  {
   "cell_type": "code",
   "execution_count": 15,
   "metadata": {
    "id": "hd8Z5AHs-c9y"
   },
   "outputs": [],
   "source": [
    "# Valor de referencia: proporcionalidad\n",
    "argentina = 46044703 / 257\n",
    "\n",
    "# Creamos variables para una selección de jurisdicciones\n",
    "cordoba = 3978984 / 18\n",
    "santa_fe = 3556522 / 19\n",
    "mendoza = 2014533 / 10\n",
    "buenos_aires = 17569053 / 70\n",
    "entre_rios =  1426426 / 9\n",
    "santa_cruz = 333473 / 5\n",
    "formosa = 606041 / 5\n",
    "\n",
    "# Definimos el diccionario para iterar\n",
    "dict_provincias = {\n",
    "    \"Córdoba\": cordoba,\n",
    "    \"Santa Fe\": santa_fe,\n",
    "    \"Mendoza\": mendoza,\n",
    "    \"Buenos Aires\": buenos_aires,\n",
    "    \"Entre Ríos\": entre_rios,\n",
    "    \"Santa Cruz\": santa_cruz,\n",
    "    \"Formosa\": formosa\n",
    "}"
   ]
  },
  {
   "cell_type": "code",
   "execution_count": 16,
   "metadata": {
    "id": "fsEHnxiY-c9y",
    "scrolled": true
   },
   "outputs": [
    {
     "name": "stdout",
     "output_type": "stream",
     "text": [
      "Córdoba está subrepresentada.\n",
      "Santa Fe está subrepresentada.\n",
      "Mendoza está subrepresentada.\n",
      "Buenos Aires está subrepresentada.\n",
      "Entre Ríos está sobrerepresentada.\n",
      "Santa Cruz está sobrerepresentada.\n",
      "Formosa está sobrerepresentada.\n",
      "La provincia con mayor sobrerepresentación es Santa Cruz con un valor de 66694.60.\n"
     ]
    }
   ],
   "source": [
    "# Resolver acá\n",
    "\n",
    "# Inicializamos la variable para la provincia con mayor sobrerepresentación\n",
    "mayor_sobrerepresentacion = None #luego se actualiza con la provincia de mayor sobrerepresentacion\n",
    "valor_mayor_sobrerepresentacion = float('inf')  # Un valor muy alto para empezar a comparar la sobrerepresentacion\n",
    "\n",
    "# Iteramos sobre el diccionario y comparamos cada valor con el valor de referencia\n",
    "for provincia, valor in dict_provincias.items():\n",
    "    if valor < argentina:\n",
    "        print(f\"{provincia} está sobrerepresentada.\")\n",
    "        if valor < valor_mayor_sobrerepresentacion: # Encontrar la Provincia con Mayor Sobrerepresentación. Determinar si la provincia actual tiene una sobrerepresentación mayor (es decir, un menor número de ciudadanos por representante)\n",
    "            valor_mayor_sobrerepresentacion = valor #Si se encuentra un valor menor que el actual valor más bajo, se actualizan estas variables\n",
    "            mayor_sobrerepresentacion = provincia\n",
    "    elif valor > argentina:\n",
    "        print(f\"{provincia} está subrepresentada.\")\n",
    "    else:\n",
    "        print(f\"{provincia} tiene representación proporcional.\")\n",
    "\n",
    "# Imprimimos la provincia con mayor sobrerepresentación\n",
    "print(f\"La provincia con mayor sobrerepresentación es {mayor_sobrerepresentacion} con un valor de {valor_mayor_sobrerepresentacion:.2f}.\")"
   ]
  },
  {
   "cell_type": "markdown",
   "metadata": {
    "id": "GokZe5tV-c9z"
   },
   "source": [
    "#### Ejercicio 10\n",
    "Si buscáramos minimizar la subrepresentación de la provincia de Buenos Aires, ¿cuántos representantes debería tener según el Censo 2022? Usemos el mismo criterio de sub/sobrerepresentacion que en el ejercicio anterior: población sobre cantidad de representantes.\n",
    "\n",
    "Para responder esta pregunta construyan un while loop que incremente de a uno la cantidad de representantes de la Provincia hasta minimizar la subrepresentación. En cada iteración impriman un cartel que diga: \"Se agregó un representante, el total ahora es X\" dónde X es el número de representantes simulado."
   ]
  },
  {
   "cell_type": "code",
   "execution_count": 17,
   "metadata": {
    "id": "x9DvuXa_-c9z"
   },
   "outputs": [],
   "source": [
    "# Estos son los valores de la provincia\n",
    "representantes_pba = 70\n",
    "poblacion2010_pba = 17594428\n",
    "\n",
    "\n",
    "# Y el valor de referencia nacional\n",
    "argentina = 46044703 / 257\n"
   ]
  },
  {
   "cell_type": "code",
   "execution_count": 18,
   "metadata": {},
   "outputs": [
    {
     "name": "stdout",
     "output_type": "stream",
     "text": [
      "Se agregó un representante, el total ahora es 71\n",
      "Se agregó un representante, el total ahora es 72\n",
      "Se agregó un representante, el total ahora es 73\n",
      "Se agregó un representante, el total ahora es 74\n",
      "Se agregó un representante, el total ahora es 75\n",
      "Se agregó un representante, el total ahora es 76\n",
      "Se agregó un representante, el total ahora es 77\n",
      "Se agregó un representante, el total ahora es 78\n",
      "Se agregó un representante, el total ahora es 79\n",
      "Se agregó un representante, el total ahora es 80\n",
      "Se agregó un representante, el total ahora es 81\n",
      "Se agregó un representante, el total ahora es 82\n",
      "Se agregó un representante, el total ahora es 83\n",
      "Se agregó un representante, el total ahora es 84\n",
      "Se agregó un representante, el total ahora es 85\n",
      "Se agregó un representante, el total ahora es 86\n",
      "Se agregó un representante, el total ahora es 87\n",
      "Se agregó un representante, el total ahora es 88\n",
      "Se agregó un representante, el total ahora es 89\n",
      "Se agregó un representante, el total ahora es 90\n",
      "Se agregó un representante, el total ahora es 91\n",
      "Se agregó un representante, el total ahora es 92\n",
      "Se agregó un representante, el total ahora es 93\n",
      "Se agregó un representante, el total ahora es 94\n",
      "Se agregó un representante, el total ahora es 95\n",
      "Se agregó un representante, el total ahora es 96\n",
      "Se agregó un representante, el total ahora es 97\n",
      "Se agregó un representante, el total ahora es 98\n",
      "Se agregó un representante, el total ahora es 99\n",
      "La provincia de Buenos Aires necesitaría 99 representantes para minimizar la subrepresentación.\n"
     ]
    }
   ],
   "source": [
    "# Resolver acá\n",
    "\n",
    "# Calcular la proporción inicial\n",
    "proporcion_buenos_aires = poblacion2010_pba / representantes_pba\n",
    "\n",
    "# Bucle para incrementar los representantes y minimizar la subrepresentación\n",
    "while proporcion_buenos_aires > argentina: #El bucle sigue ejecutándose mientras proporcion_buenos_aires sea mayor que argentina (subrepresentacion).\n",
    "    representantes_pba += 1 #Se incrementa en uno el número de representantes\n",
    "    proporcion_buenos_aires = poblacion2010_pba / representantes_pba #Se calcula la proporción nuevamente\n",
    "    print(f\"Se agregó un representante, el total ahora es {representantes_pba}\")\n",
    "\n",
    "# Resultado final. El bucle se detiene cuando la proporción de Buenos Aires es menor o igual a la de Argentina. \n",
    "print(f\"La provincia de Buenos Aires necesitaría {representantes_pba} representantes para minimizar la subrepresentación.\")\n"
   ]
  }
 ],
 "metadata": {
  "anaconda-cloud": {},
  "colab": {
   "name": "TP1 - Parte 1.ipynb",
   "provenance": []
  },
  "kernelspec": {
   "display_name": "Python 3 (ipykernel)",
   "language": "python",
   "name": "python3"
  },
  "language_info": {
   "codemirror_mode": {
    "name": "ipython",
    "version": 3
   },
   "file_extension": ".py",
   "mimetype": "text/x-python",
   "name": "python",
   "nbconvert_exporter": "python",
   "pygments_lexer": "ipython3",
   "version": "3.9.19"
  }
 },
 "nbformat": 4,
 "nbformat_minor": 4
}
